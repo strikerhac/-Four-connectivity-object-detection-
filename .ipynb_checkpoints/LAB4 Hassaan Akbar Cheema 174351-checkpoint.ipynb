{
 "cells": [
  {
   "cell_type": "code",
   "execution_count": 81,
   "metadata": {},
   "outputs": [],
   "source": [
    "import numpy\n",
    "import matplotlib\n",
    "from PIL import Image\n",
    "import os, sys\n",
    "from PIL import ImageFilter\n",
    "from scipy import misc\n",
    "import numpy as np\n",
    "import matplotlib.pyplot as plt \n",
    "import sys as sys\n",
    "import cv2\n",
    "from scipy.signal import find_peaks"
   ]
  },
  {
   "cell_type": "code",
   "execution_count": null,
   "metadata": {},
   "outputs": [],
   "source": [
    "##################################### RGB TO BINARY CONVERSION ################################################"
   ]
  },
  {
   "cell_type": "code",
   "execution_count": 129,
   "metadata": {},
   "outputs": [
    {
     "name": "stderr",
     "output_type": "stream",
     "text": [
      "E:\\Anaconda\\lib\\site-packages\\ipykernel_launcher.py:4: DeprecationWarning: `imread` is deprecated!\n",
      "`imread` is deprecated in SciPy 1.0.0, and will be removed in 1.2.0.\n",
      "Use ``imageio.imread`` instead.\n",
      "  after removing the cwd from sys.path.\n"
     ]
    },
    {
     "data": {
      "text/plain": [
       "(331, 508)"
      ]
     },
     "execution_count": 129,
     "metadata": {},
     "output_type": "execute_result"
    }
   ],
   "source": [
    "im = Image.open(\"test.png\").convert(\"L\")\n",
    "test = im.point(lambda x: 0 if x<128 else 1)\n",
    "test.save(\"binary.png\")\n",
    "image = misc.imread(\"binary.png\")\n",
    "image.shape"
   ]
  },
  {
   "cell_type": "code",
   "execution_count": 100,
   "metadata": {},
   "outputs": [
    {
     "data": {
      "image/png": "[encoded data removed]",
      "text/plain": [
       "<Figure size 432x288 with 1 Axes>"
      ]
     },
     "metadata": {
      "needs_background": "light"
     },
     "output_type": "display_data"
    }
   ],
   "source": [
    "plt.imshow(image, cmap = matplotlib.cm.Greys_r) \n",
    "plt.show()"
   ]
  },
  {
   "cell_type": "code",
   "execution_count": null,
   "metadata": {},
   "outputs": [],
   "source": [
    "##################################### FIRST PASS ################################################"
   ]
  },
  {
   "cell_type": "code",
   "execution_count": 165,
   "metadata": {},
   "outputs": [],
   "source": [
    "compare = []"
   ]
  },
  {
   "cell_type": "code",
   "execution_count": 184,
   "metadata": {},
   "outputs": [],
   "source": [
    "def label(v,image):\n",
    "    lab=1\n",
    "    container = np.full(image.shape, 0, dtype=int)\n",
    "    for r in range(len(image)): \n",
    "        for c in range(len(image[r])): \n",
    "            \n",
    "            if image[r][c] == v:\n",
    "                \n",
    "                if r == 0 and c == 0:\n",
    "                    container[r][c] = lab\n",
    "                    lab += 1\n",
    "\n",
    "                elif r == 0:\n",
    "                    if image[r][c-1] == 0:\n",
    "                        container[r][c] = lab\n",
    "                        lab += 1\n",
    "                    else:\n",
    "                        container[r][c] = container[r][c-1]\n",
    "\n",
    "                elif c == 0:\n",
    "                    if image[r-1][c] == 0:\n",
    "                        container[r][c] = lab\n",
    "                        lab += 1\n",
    "                    else:\n",
    "                        container[r][c] = image[r-1][c]\n",
    "\n",
    "                else:\n",
    "\n",
    "                    if container[r-1][c] == 0 and container[r][c-1] == 0:\n",
    "                        container[r][c] = lab\n",
    "                        lab += 1\n",
    "\n",
    "                    elif container[r-1][c] == container[r][c-1]:\n",
    "                        container[r][c] = container[r-1][c]\n",
    "\n",
    "                    elif container[r-1][c] >= container[r][c-1] and container[r][c-1] != 0:\n",
    "                        container[r][c] = container[r][c-1]\n",
    "                        compare.append((container[r][c-1],container[r-1][c]))\n",
    "\n",
    "                    elif container[r-1][c] <= container[r][c-1] and container[r-1][c] != 0:\n",
    "                        container[r][c] = container[r-1][c]\n",
    "                        compare.append((container[r-1][c],container[r][c-1]))\n",
    "                        \n",
    "                    elif container[r-1][c] >= container[r][c-1] and container[r][c-1] == 0:\n",
    "                        container[r][c] = container[r-1][c]\n",
    "                    \n",
    "                    elif container[r-1][c] <= container[r][c-1] and container[r-1][c] == 0:\n",
    "                        container[r][c] = container[r][c-1]\n",
    "    plt.imshow(container, cmap = matplotlib.cm.nipy_spectral) \n",
    "    plt.show()\n"
   ]
  },
  {
   "cell_type": "code",
   "execution_count": 185,
   "metadata": {
    "scrolled": true
   },
   "outputs": [
    {
     "data": {
      "image/png": "[encoded data removed]",
      "text/plain": [
       "<Figure size 432x288 with 1 Axes>"
      ]
     },
     "metadata": {
      "needs_background": "light"
     },
     "output_type": "display_data"
    }
   ],
   "source": [
    "label(0,image);"
   ]
  },
  {
   "cell_type": "code",
   "execution_count": 178,
   "metadata": {},
   "outputs": [
    {
     "data": {
      "text/plain": [
       "3237"
      ]
     },
     "execution_count": 178,
     "metadata": {},
     "output_type": "execute_result"
    }
   ],
   "source": [
    "len(compare)"
   ]
  },
  {
   "cell_type": "code",
   "execution_count": null,
   "metadata": {},
   "outputs": [],
   "source": [
    "##################################### SECOND PASS ################################################"
   ]
  },
  {
   "cell_type": "code",
   "execution_count": 173,
   "metadata": {},
   "outputs": [],
   "source": [
    "for x in compare:\n",
    "    for r in range(len(image)): \n",
    "            for c in range(len(image[r])):\n",
    "                if container[r][c] == x[1]:\n",
    "                    container[r][c] = x[0]"
   ]
  },
  {
   "cell_type": "code",
   "execution_count": 179,
   "metadata": {},
   "outputs": [
    {
     "data": {
      "image/png": "[encoded data removed]",
      "text/plain": [
       "<Figure size 432x288 with 1 Axes>"
      ]
     },
     "metadata": {
      "needs_background": "light"
     },
     "output_type": "display_data"
    }
   ],
   "source": [
    "plt.imshow(container, cmap = matplotlib.cm.nipy_spectral) \n",
    "plt.show()"
   ]
  }
 ],
 "metadata": {
  "kernelspec": {
   "display_name": "Python 3",
   "language": "python",
   "name": "python3"
  },
  "language_info": {
   "codemirror_mode": {
    "name": "ipython",
    "version": 3
   },
   "file_extension": ".py",
   "mimetype": "text/x-python",
   "name": "python",
   "nbconvert_exporter": "python",
   "pygments_lexer": "ipython3",
   "version": "3.7.1"
  }
 },
 "nbformat": 4,
 "nbformat_minor": 2
}
