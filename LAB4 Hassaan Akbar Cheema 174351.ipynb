{
 "cells": [
  {
   "cell_type": "code",
   "execution_count": 13,
   "metadata": {},
   "outputs": [],
   "source": [
    "import numpy\n",
    "import matplotlib\n",
    "from PIL import Image\n",
    "from scipy import misc\n",
    "import numpy as np\n",
    "import matplotlib.pyplot as plt "
   ]
  },
  {
   "cell_type": "code",
   "execution_count": 14,
   "metadata": {},
   "outputs": [],
   "source": [
    "##################################### RGB TO BINARY CONVERSION ################################################"
   ]
  },
  {
   "cell_type": "code",
   "execution_count": 15,
   "metadata": {},
   "outputs": [],
   "source": [
    "def rgb_to_binary(url):\n",
    "    im = Image.open(url).convert(\"L\")\n",
    "    test = im.point(lambda x: 0 if x<100 else 1)\n",
    "    test.save(\"binary.png\")\n",
    "    image = misc.imread(\"binary.png\")\n",
    "    print(\"shape = \", image.shape)\n",
    "    plt.imshow(image, cmap = matplotlib.cm.Greys_r) \n",
    "    plt.show()\n",
    "    return image"
   ]
  },
  {
   "cell_type": "code",
   "execution_count": 16,
   "metadata": {},
   "outputs": [],
   "source": [
    "##################################### FIRST PASS ################################################"
   ]
  },
  {
   "cell_type": "code",
   "execution_count": 17,
   "metadata": {},
   "outputs": [],
   "source": [
    "def first_pass(v,image):\n",
    "    compare = []\n",
    "    lab = 50\n",
    "    container = np.full(image.shape, 0, dtype=int)\n",
    "    for r in range(len(image)): \n",
    "        for c in range(len(image[r])): \n",
    "            \n",
    "            if image[r][c] == v:\n",
    "                \n",
    "                if r == 0 and c == 0:\n",
    "                    container[r][c] = lab\n",
    "                    lab += 1\n",
    "\n",
    "                elif r == 0:\n",
    "                    if image[r][c-1] == 0:\n",
    "                        container[r][c] = lab\n",
    "                        lab += 1\n",
    "                    else:\n",
    "                        container[r][c] = container[r][c-1]\n",
    "\n",
    "                elif c == 0:\n",
    "                    if image[r-1][c] == 0:\n",
    "                        container[r][c] = lab\n",
    "                        lab += 1\n",
    "                    else:\n",
    "                        container[r][c] = image[r-1][c]\n",
    "\n",
    "                else:\n",
    "\n",
    "                    if container[r-1][c] == 0 and container[r][c-1] == 0:\n",
    "                        container[r][c] = lab\n",
    "                        lab += 1\n",
    "\n",
    "                    elif container[r-1][c] == container[r][c-1]:\n",
    "                        container[r][c] = container[r-1][c]\n",
    "\n",
    "                    elif container[r-1][c] >= container[r][c-1] and container[r][c-1] != 0:\n",
    "                        container[r][c] = container[r][c-1]\n",
    "                        compare.append((container[r][c-1],container[r-1][c]))\n",
    "\n",
    "                    elif container[r-1][c] <= container[r][c-1] and container[r-1][c] != 0:\n",
    "                        container[r][c] = container[r-1][c]\n",
    "                        \n",
    "                        compare.append((container[r-1][c],container[r][c-1]))\n",
    "                        \n",
    "                    elif container[r-1][c] >= container[r][c-1] and container[r][c-1] == 0:\n",
    "                        container[r][c] = container[r-1][c]\n",
    "                    \n",
    "                    elif container[r-1][c] <= container[r][c-1] and container[r-1][c] == 0:\n",
    "                        container[r][c] = container[r][c-1]\n",
    "    print(\"First Pass: \")\n",
    "    plt.imshow(container, cmap = matplotlib.cm.nipy_spectral) \n",
    "    plt.show()\n",
    "    compare = list(set(compare))\n",
    "    return (container,compare)\n"
   ]
  },
  {
   "cell_type": "code",
   "execution_count": 18,
   "metadata": {},
   "outputs": [],
   "source": [
    "##################################### SECOND PASS ################################################"
   ]
  },
  {
   "cell_type": "code",
   "execution_count": 19,
   "metadata": {},
   "outputs": [],
   "source": [
    "def second_pass(compare,container):\n",
    "    print(\"Second Pass: \")\n",
    "    for x in compare:    \n",
    "        for r in range(len(container)): \n",
    "                for c in range(len(container[r])):\n",
    "                    if container[r][c] == x[1]:\n",
    "                        container[r][c] = x[0]\n",
    "    plt.imshow(container, cmap = matplotlib.cm.nipy_spectral) \n",
    "    plt.show()"
   ]
  },
  {
   "cell_type": "code",
   "execution_count": 20,
   "metadata": {},
   "outputs": [],
   "source": [
    "############################################# Funtion Testing ################################################"
   ]
  },
  {
   "cell_type": "code",
   "execution_count": 21,
   "metadata": {},
   "outputs": [],
   "source": [
    "def model(image_url, mode):\n",
    "    image = rgb_to_binary(image_url)\n",
    "    output = first_pass(mode,image);\n",
    "    container = output[0]\n",
    "    compare = output[1]\n",
    "    second_pass(compare,container)"
   ]
  },
  {
   "cell_type": "code",
   "execution_count": 22,
   "metadata": {},
   "outputs": [
    {
     "name": "stderr",
     "output_type": "stream",
     "text": [
      "E:\\Anaconda\\lib\\site-packages\\ipykernel_launcher.py:5: DeprecationWarning: `imread` is deprecated!\n",
      "`imread` is deprecated in SciPy 1.0.0, and will be removed in 1.2.0.\n",
      "Use ``imageio.imread`` instead.\n",
      "  \"\"\"\n"
     ]
    },
    {
     "name": "stdout",
     "output_type": "stream",
     "text": [
      "shape =  (331, 508)\n"
     ]
    },
    {
     "data": {
      "image/png": "[encoded data removed]",
      "text/plain": [
       "<Figure size 432x288 with 1 Axes>"
      ]
     },
     "metadata": {
      "needs_background": "light"
     },
     "output_type": "display_data"
    },
    {
     "name": "stdout",
     "output_type": "stream",
     "text": [
      "First Pass: \n"
     ]
    },
    {
     "data": {
      "image/png": "[encoded data removed]",
      "text/plain": [
       "<Figure size 432x288 with 1 Axes>"
      ]
     },
     "metadata": {
      "needs_background": "light"
     },
     "output_type": "display_data"
    },
    {
     "name": "stdout",
     "output_type": "stream",
     "text": [
      "Second Pass: \n"
     ]
    },
    {
     "data": {
      "image/png": "[encoded data removed]",
      "text/plain": [
       "<Figure size 432x288 with 1 Axes>"
      ]
     },
     "metadata": {
      "needs_background": "light"
     },
     "output_type": "display_data"
    }
   ],
   "source": [
    "model(\"test.png\",0)"
   ]
  }
 ],
 "metadata": {
  "kernelspec": {
   "display_name": "Python 3",
   "language": "python",
   "name": "python3"
  },
  "language_info": {
   "codemirror_mode": {
    "name": "ipython",
    "version": 3
   },
   "file_extension": ".py",
   "mimetype": "text/x-python",
   "name": "python",
   "nbconvert_exporter": "python",
   "pygments_lexer": "ipython3",
   "version": "3.6.8"
  }
 },
 "nbformat": 4,
 "nbformat_minor": 2
}
